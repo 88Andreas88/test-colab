{
  "nbformat": 4,
  "nbformat_minor": 0,
  "metadata": {
    "colab": {
      "name": "Intro.ipynb",
      "provenance": [],
      "collapsed_sections": [],
      "toc_visible": true,
      "authorship_tag": "ABX9TyMnTbXKEfQj/o6hYWJY4z7Y",
      "include_colab_link": true
    },
    "kernelspec": {
      "name": "python3",
      "display_name": "Python 3"
    },
    "language_info": {
      "name": "python"
    }
  },
  "cells": [
    {
      "cell_type": "markdown",
      "metadata": {
        "id": "view-in-github",
        "colab_type": "text"
      },
      "source": [
        "<a href=\"https://colab.research.google.com/github/88Andreas88/test-colab/blob/main/Practice1.ipynb\" target=\"_parent\"><img src=\"https://colab.research.google.com/assets/colab-badge.svg\" alt=\"Open In Colab\"/></a>"
      ]
    },
    {
      "cell_type": "markdown",
      "metadata": {
        "id": "1fD39nVlVowZ"
      },
      "source": [
        "### SALES ###"
      ]
    },
    {
      "cell_type": "code",
      "metadata": {
        "colab": {
          "base_uri": "https://localhost:8080/"
        },
        "id": "rtW_zDN-UgNL",
        "outputId": "c36ba334-b82b-4394-cea6-85e1a3071ce8"
      },
      "source": [
        "revenue = 10000\n",
        "tax = 0.19\n",
        "income = revenue * tax\n",
        "income"
      ],
      "execution_count": 5,
      "outputs": [
        {
          "output_type": "execute_result",
          "data": {
            "text/plain": [
              "1900.0"
            ]
          },
          "metadata": {},
          "execution_count": 5
        }
      ]
    },
    {
      "cell_type": "markdown",
      "metadata": {
        "id": "Y9e0qvMrWC8_"
      },
      "source": [
        "# New Section"
      ]
    },
    {
      "cell_type": "code",
      "metadata": {
        "colab": {
          "base_uri": "https://localhost:8080/"
        },
        "id": "75m0FoCQUv5e",
        "outputId": "7e7d069c-514a-49e7-9d26-5bac324a64ce"
      },
      "source": [
        "print(income)"
      ],
      "execution_count": 8,
      "outputs": [
        {
          "output_type": "stream",
          "name": "stdout",
          "text": [
            "1900.0\n"
          ]
        }
      ]
    },
    {
      "cell_type": "markdown",
      "metadata": {
        "id": "KTsM-aEkWO_Y"
      },
      "source": [
        "### SUMMARY ###\n"
      ]
    },
    {
      "cell_type": "code",
      "metadata": {
        "colab": {
          "base_uri": "https://localhost:8080/",
          "height": 35
        },
        "id": "ChhE2dMeWeCK",
        "outputId": "d3c0f657-7200-4147-9a82-d5f8caa8d585"
      },
      "source": [
        "import numpy as np\n",
        "\n",
        "np.__version__"
      ],
      "execution_count": 10,
      "outputs": [
        {
          "output_type": "execute_result",
          "data": {
            "application/vnd.google.colaboratory.intrinsic+json": {
              "type": "string"
            },
            "text/plain": [
              "'1.19.5'"
            ]
          },
          "metadata": {},
          "execution_count": 10
        }
      ]
    },
    {
      "cell_type": "code",
      "metadata": {
        "id": "qkd9vzleWpdi"
      },
      "source": [
        "np.random.rand?"
      ],
      "execution_count": 12,
      "outputs": []
    },
    {
      "cell_type": "code",
      "metadata": {
        "colab": {
          "base_uri": "https://localhost:8080/"
        },
        "id": "OeQqlq2zXMjv",
        "outputId": "a36fc499-676c-4ed8-fd3d-878990bca586"
      },
      "source": [
        "!pip install imageai"
      ],
      "execution_count": 2,
      "outputs": [
        {
          "output_type": "stream",
          "name": "stdout",
          "text": [
            "Requirement already satisfied: imageai in /usr/local/lib/python3.7/dist-packages (2.1.6)\n",
            "Requirement already satisfied: keras-resnet==0.2.0 in /usr/local/lib/python3.7/dist-packages (from imageai) (0.2.0)\n",
            "Requirement already satisfied: pillow==7.0.0 in /usr/local/lib/python3.7/dist-packages (from imageai) (7.0.0)\n",
            "Requirement already satisfied: numpy==1.19.3 in /usr/local/lib/python3.7/dist-packages (from imageai) (1.19.3)\n",
            "Requirement already satisfied: opencv-python in /usr/local/lib/python3.7/dist-packages (from imageai) (4.1.2.30)\n",
            "Requirement already satisfied: scipy==1.4.1 in /usr/local/lib/python3.7/dist-packages (from imageai) (1.4.1)\n",
            "Requirement already satisfied: h5py==2.10.0 in /usr/local/lib/python3.7/dist-packages (from imageai) (2.10.0)\n",
            "Requirement already satisfied: matplotlib==3.3.2 in /usr/local/lib/python3.7/dist-packages (from imageai) (3.3.2)\n",
            "Requirement already satisfied: keras==2.4.3 in /usr/local/lib/python3.7/dist-packages (from imageai) (2.4.3)\n",
            "Requirement already satisfied: six in /usr/local/lib/python3.7/dist-packages (from h5py==2.10.0->imageai) (1.15.0)\n",
            "Requirement already satisfied: pyyaml in /usr/local/lib/python3.7/dist-packages (from keras==2.4.3->imageai) (3.13)\n",
            "Requirement already satisfied: certifi>=2020.06.20 in /usr/local/lib/python3.7/dist-packages (from matplotlib==3.3.2->imageai) (2021.5.30)\n",
            "Requirement already satisfied: cycler>=0.10 in /usr/local/lib/python3.7/dist-packages (from matplotlib==3.3.2->imageai) (0.10.0)\n",
            "Requirement already satisfied: pyparsing!=2.0.4,!=2.1.2,!=2.1.6,>=2.0.3 in /usr/local/lib/python3.7/dist-packages (from matplotlib==3.3.2->imageai) (2.4.7)\n",
            "Requirement already satisfied: python-dateutil>=2.1 in /usr/local/lib/python3.7/dist-packages (from matplotlib==3.3.2->imageai) (2.8.2)\n",
            "Requirement already satisfied: kiwisolver>=1.0.1 in /usr/local/lib/python3.7/dist-packages (from matplotlib==3.3.2->imageai) (1.3.2)\n"
          ]
        }
      ]
    },
    {
      "cell_type": "code",
      "metadata": {
        "id": "G8ZfPuNFXr2n"
      },
      "source": [
        "import imageai"
      ],
      "execution_count": 4,
      "outputs": []
    },
    {
      "cell_type": "markdown",
      "metadata": {
        "id": "n38Z1pb9X6ej"
      },
      "source": [
        "### Markdown ###\n"
      ]
    },
    {
      "cell_type": "markdown",
      "metadata": {
        "id": "-oNgVs9UYNVU"
      },
      "source": [
        "Example of *markdown*  \n",
        "Example of **markdown**  \n",
        "Example of markdown  \n",
        "Example of 'markdown'  \n",
        "Example of __markdown__  \n",
        "\n",
        "...  \n",
        "Example of markdown  \n",
        "...  \n",
        "\n",
        ">Phyton  \n",
        ">>>Code\n",
        "\n",
        "An ordered list:\n",
        "1. One\n",
        "2. Two\n",
        "3. Three\n",
        "\n",
        "Un ordered list:\n",
        "* One\n",
        "* Two\n",
        "* Three"
      ]
    },
    {
      "cell_type": "markdown",
      "metadata": {
        "id": "8uJX2C_kbFv2"
      },
      "source": [
        "[Google](https://www.google.com/)\n",
        "\n",
        "![Phyton](data:image/jpeg;base64,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)"
      ]
    },
    {
      "cell_type": "markdown",
      "metadata": {
        "id": "1XcwWTzGb9BB"
      },
      "source": [
        "$y = x^2$  \n",
        "\n",
        "$\\frac{1}{n} \\sum_{i=1}^{n}$"
      ]
    },
    {
      "cell_type": "markdown",
      "metadata": {
        "id": "xCILaU_Wcrri"
      },
      "source": [
        "$A = \\begin{pmatrix}\n",
        "a_{1, 1} & a_{1, 2} \\\\\n",
        "a_{2, 1} & a_{2, 2}\n",
        "\\end{pmatrix}$\n"
      ]
    },
    {
      "cell_type": "markdown",
      "metadata": {
        "id": "RBReMQMneVr6"
      },
      "source": [
        "Col1  | Col2  | Col3  \n",
        "---  |  ---  |  ---  \n",
        "val1  |  val2  | val3  \n",
        "val4  |  val5  | val 6  \n"
      ]
    },
    {
      "cell_type": "markdown",
      "metadata": {
        "id": "pGb5l_zNewje"
      },
      "source": [
        ""
      ]
    }
  ]
}